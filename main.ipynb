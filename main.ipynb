{
 "cells": [
  {
   "cell_type": "code",
   "execution_count": 1,
   "metadata": {},
   "outputs": [],
   "source": [
    "from interpilation import interpilate\n",
    "from SimChain import Chain\n",
    "from phases import Growth , Winter\n",
    "from RungeKuta import buildODEPhase , timeCon\n",
    "from iteratedFunc import buildIter\n",
    "import matplotlib.pyplot as plt\n",
    "import numpy as np\n",
    "from itertools import chain\n",
    "from ipywidgets import interactive, fixed\n",
    "import ipywidgets as widgets\n",
    "from matplotlib.pyplot import figure"
   ]
  },
  {
   "cell_type": "code",
   "execution_count": 2,
   "metadata": {},
   "outputs": [],
   "source": [
    "tol = 0.001\n",
    "maxStep = 0.05\n",
    "winterTime=0.1"
   ]
  },
  {
   "cell_type": "code",
   "execution_count": 3,
   "metadata": {},
   "outputs": [],
   "source": [
    "def plotFrom(growthTime,seasons,startC):\n",
    "    testFrame = (0,[(0,0),(startC,0)])\n",
    "    testTimes = np.arange(0,seasons*(growthTime+winterTime),maxStep)\n",
    "    GrowthPhase = lambda n: buildODEPhase(tol,maxStep,Growth,timeCon(n*growthTime+(n-1)*winterTime))\n",
    "    WinterPhase = buildIter(winterTime,Winter)\n",
    "    Phases= list(chain.from_iterable((GrowthPhase(x), WinterPhase) for x in range(1,seasons+1) ))\n",
    "    Env = Chain(testFrame,Phases)\n",
    "    testData = interpilate(testTimes,Env)\n",
    "    t,s=Env.frame\n",
    "    ms,cs = s\n",
    "    m,dm = ms\n",
    "    c,dc = cs\n",
    "    plt.plot(testTimes,testData)\n",
    "    plt.show()\n",
    "    #print(\"end carbs :\",c)"
   ]
  },
  {
   "cell_type": "code",
   "execution_count": 5,
   "metadata": {},
   "outputs": [
    {
     "data": {
      "application/vnd.jupyter.widget-view+json": {
       "model_id": "eb9e39e7a89442368ed26eed41bf8f3a",
       "version_major": 2,
       "version_minor": 0
      },
      "text/plain": [
       "interactive(children=(FloatSlider(value=5.005, description='growthTime', max=10.0, min=0.01), IntSlider(value=…"
      ]
     },
     "metadata": {},
     "output_type": "display_data"
    }
   ],
   "source": [
    "interactive(plotFrom,growthTime=(0.01,10),seasons=(1,10),startC=widgets.FloatSlider(value=0.5,min=0.001,max=1,step=0.001))"
   ]
  },
  {
   "cell_type": "code",
   "execution_count": null,
   "metadata": {},
   "outputs": [],
   "source": []
  }
 ],
 "metadata": {
  "kernelspec": {
   "display_name": "Python 3",
   "language": "python",
   "name": "python3"
  },
  "language_info": {
   "codemirror_mode": {
    "name": "ipython",
    "version": 3
   },
   "file_extension": ".py",
   "mimetype": "text/x-python",
   "name": "python",
   "nbconvert_exporter": "python",
   "pygments_lexer": "ipython3",
   "version": "3.6.5"
  }
 },
 "nbformat": 4,
 "nbformat_minor": 2
}
